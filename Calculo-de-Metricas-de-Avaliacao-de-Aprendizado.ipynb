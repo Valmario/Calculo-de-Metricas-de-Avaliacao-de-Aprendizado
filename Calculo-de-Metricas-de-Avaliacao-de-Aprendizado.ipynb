{
  "nbformat": 4,
  "nbformat_minor": 0,
  "metadata": {
    "colab": {
      "provenance": [],
      "authorship_tag": "ABX9TyOMRUfHHhCLSxFV7uM9NT+0",
      "include_colab_link": true
    },
    "kernelspec": {
      "name": "python3",
      "display_name": "Python 3"
    },
    "language_info": {
      "name": "python"
    }
  },
  "cells": [
    {
      "cell_type": "markdown",
      "metadata": {
        "id": "view-in-github",
        "colab_type": "text"
      },
      "source": [
        "<a href=\"https://colab.research.google.com/github/Valmario/Calculo-de-Metricas-de-Avaliacao-de-Aprendizado/blob/main/Calculo-de-Metricas-de-Avaliacao-de-Aprendizado.ipynb\" target=\"_parent\"><img src=\"https://colab.research.google.com/assets/colab-badge.svg\" alt=\"Open In Colab\"/></a>"
      ]
    },
    {
      "cell_type": "code",
      "execution_count": 1,
      "metadata": {
        "id": "wc1Jt0idqGDn"
      },
      "outputs": [],
      "source": [
        "import numpy as np\n",
        "from sklearn.metrics import confusion_matrix\n"
      ]
    },
    {
      "cell_type": "code",
      "source": [
        "# Função para calcular as métricas\n",
        "def calcular_metricas(conf_matrix):\n",
        "    VP = conf_matrix[1, 1]\n",
        "    VN = conf_matrix[0, 0]\n",
        "    FP = conf_matrix[0, 1]\n",
        "    FN = conf_matrix[1, 0]\n",
        "\n",
        "    # Cálculo das métricas\n",
        "    acuracia = (VP + VN) / (VP + VN + FP + FN)\n",
        "    sensibilidade = VP / (VP + FN)\n",
        "    especificidade = VN / (VN + FP)\n",
        "    precisao = VP / (VP + FP)\n",
        "    f_score = 2 * (precisao * sensibilidade) / (precisao + sensibilidade)\n",
        "\n",
        "    return acuracia, sensibilidade, especificidade, precisao, f_score\n",
        "\n",
        "# Exemplo de matriz de confusão (pode ser ajustado conforme necessário)\n",
        "y_true = [1, 0, 1, 1, 0, 1, 0, 1, 0, 0]  # Valores reais\n",
        "y_pred = [1, 0, 1, 0, 0, 1, 0, 1, 1, 0]  # Valores previstos\n",
        "\n",
        "# Gerando a matriz de confusão\n",
        "conf_matrix = confusion_matrix(y_true, y_pred)\n",
        "\n",
        "# Calculando as métricas\n",
        "acuracia, sensibilidade, especificidade, precisao, f_score = calcular_metricas(conf_matrix)\n",
        "print(f\"Acurácia: {acuracia}\")\n",
        "print(f\"Sensibilidade (Recall): {sensibilidade}\")\n",
        "print(f\"Especificidade: {especificidade}\")\n",
        "print(f\"Precisão: {precisao}\")\n",
        "print(f\"F-Score: {f_score}\")\n"
      ],
      "metadata": {
        "colab": {
          "base_uri": "https://localhost:8080/"
        },
        "id": "1YaQmuBIqKEy",
        "outputId": "3c3da24c-571f-477d-eb83-94ccf76e7fad"
      },
      "execution_count": 3,
      "outputs": [
        {
          "output_type": "stream",
          "name": "stdout",
          "text": [
            "Acurácia: 0.8\n",
            "Sensibilidade (Recall): 0.8\n",
            "Especificidade: 0.8\n",
            "Precisão: 0.8\n",
            "F-Score: 0.8000000000000002\n"
          ]
        }
      ]
    }
  ]
}